{
 "metadata": {
  "language_info": {
   "codemirror_mode": {
    "name": "ipython",
    "version": 3
   },
   "file_extension": ".py",
   "mimetype": "text/x-python",
   "name": "python",
   "nbconvert_exporter": "python",
   "pygments_lexer": "ipython3",
   "version": "3.8.3-final"
  },
  "orig_nbformat": 2,
  "kernelspec": {
   "name": "Python 3.8.3 64-bit",
   "display_name": "Python 3.8.3 64-bit",
   "metadata": {
    "interpreter": {
     "hash": "2db524e06e9f5f4ffedc911c917cb75e12dbc923643829bf417064a77eb14d37"
    }
   }
  }
 },
 "nbformat": 4,
 "nbformat_minor": 2,
 "cells": [
  {
   "source": [
    "# Using Python for Automating Google Slides and Watermarking"
   ],
   "cell_type": "markdown",
   "metadata": {}
  },
  {
   "cell_type": "code",
   "execution_count": null,
   "metadata": {},
   "outputs": [],
   "source": [
    "# Adding in imports here.\n",
    "\n",
    "import IPython\n",
    "from __future__ import print_function\n",
    "import pickle\n",
    "import os.path\n",
    "from googleapiclient.discovery import build\n",
    "from google_auth_oauthlib.flow import InstalledAppFlow\n",
    "from google.auth.transport.requests import Request\n",
    "\n",
    "import argparse\n",
    "import json\n",
    "import requests\n",
    "import pandas as pd\n",
    "import oauth2client\n",
    "import httplib2\n",
    "import logging\n",
    "import uuid\n",
    "import io\n"
   ]
  },
  {
   "cell_type": "code",
   "execution_count": null,
   "metadata": {},
   "outputs": [],
   "source": [
    "SCOPES = [\"https://www.googleapis.com/auth/drive\",\"https://www.googleapis.com/auth/drive.file\",\"https://www.googleapis.com/auth/drive.readonly\",\"https://www.googleapis.com/auth/presentations\",\"https://www.googleapis.com/auth/presentations.readonly\",\"https://www.googleapis.com/auth/spreadsheets\",\"https://www.googleapis.com/auth/spreadsheets.readonly\"]\n",
    "\n"
   ]
  },
  {
   "source": [
    "## Introduction\n",
    "\n",
    "This is a basic example of using the Slides API.  I have made a copy of the presentation you provided to use as an example. I'll start by showing the basic usage of the Slides API first before I get into creating and manipulating elements.\n",
    "\n",
    "## Steps\n",
    "\n",
    "1. We will need to authenticate to Google to use the API.  I am using the OAuth Flow for this. First step is to check if a token already exists.\n",
    "\n",
    "2. If there are no credentials availible, then we will log in as the user to generate one.\n",
    "\n",
    "3. Creds are saved in a encrypted and secure format so they will not be requested again on the next run (This will last until the token refresh expires.)\n",
    "\n",
    "4. Once we have authenticated successfully, we can use the Presentation ID to enumerate the slides and then go through each one to get a count of the Page Elements. (This is for a test.  For the actual run, we will be adding a Page Element with the watermark to the desihnated locations.)"
   ],
   "cell_type": "markdown",
   "metadata": {}
  },
  {
   "cell_type": "code",
   "execution_count": null,
   "metadata": {},
   "outputs": [],
   "source": [
    "def authSlides():\n",
    "    \n",
    "    # Step 1\n",
    "\n",
    "    creds = None\n",
    "    if os.path.exists('token.pickle'):\n",
    "        with open('token.pickle', 'rb') as token:\n",
    "            creds = pickle.load(token)\n",
    "    \n",
    "   \n",
    "   # Step 2\n",
    "\n",
    "    if not creds or not creds.valid:\n",
    "        if creds and creds.expired and creds.refresh_token:\n",
    "            creds.refresh(Request())\n",
    "        else:\n",
    "            flow= InstalledAppFlow.from_client_secrets_file('credentials.json', SCOPES)\n",
    "            creds = flow.run_local_server(port=0)\n",
    "        \n",
    "        # Step 3\n",
    "\n",
    "        with open('token.pickle', 'wb') as token:\n",
    "            pickle.dump(creds, token)\n",
    "        \n",
    "    service = build('slides', 'v1', credentials=creds)\n",
    "    \n",
    "    return service\n"
   ]
  },
  {
   "cell_type": "code",
   "execution_count": null,
   "metadata": {},
   "outputs": [],
   "source": [
    "service = authSlides()\n",
    "\n",
    "def getSlides(service, PRESENTATION_ID):\n",
    "    presentation = service.presentations().get(presentationId=PRESENTATION_ID).execute()\n",
    "    slides = presentation.get('slides')\n",
    "    \n",
    "    # Step 4\n",
    "\n",
    "    print(f'The presentation contains {len(slides)} slides:')\n",
    "    for i, slide in enumerate(slides):\n",
    "        try:\n",
    "            print(f'- Slide {i + 1} contains {len(slide.get(\"pageElements\"))} Page Elements')\n",
    "        except:\n",
    "            print(f'- Slide {i+1} contains no Page Elements')"
   ]
  },
  {
   "source": [
    "## Creating Presentations and Slide\n",
    "\n",
    "The API can also be used to create presentations.  This is something that can be useful if you are wanting to preserve the original presentations while generating new ones with watermarks or other changes added.\n",
    "\n",
    "### Creating the Presentation Request"
   ],
   "cell_type": "markdown",
   "metadata": {}
  },
  {
   "cell_type": "code",
   "execution_count": null,
   "metadata": {},
   "outputs": [],
   "source": [
    "body = {\n",
    "    \"title\" : \"Example Presentation\"\n",
    "}\n",
    "\n",
    "presentation2 = service.presentations().create(body=body).execute()\n",
    "\n",
    "print(f'Created presentation with ID: {presentation2.get(\"presentationId\")}')"
   ]
  },
  {
   "source": [
    "### Creating Slides\n",
    "\n",
    "For this next example, I am going to use the presentation that I used above to add in a slide using a template."
   ],
   "cell_type": "markdown",
   "metadata": {}
  },
  {
   "cell_type": "code",
   "execution_count": null,
   "metadata": {},
   "outputs": [],
   "source": [
    "page_id = str(uuid.uuid1())\n",
    "\n",
    "request1 = [\n",
    "    {\n",
    "        'createSlide': {\n",
    "            'objectId' : page_id,\n",
    "            'insertionIndex': '1',\n",
    "            'slideLayoutReference' : {\n",
    "                'predefinedLayout' : 'TITLE_AND_TWO_COLUMNS'\n",
    "            }\n",
    "        }\n",
    "    }\n",
    "]\n",
    "\n",
    "body = {\n",
    "    'requests': request1\n",
    "}\n",
    "\n",
    "response1 = service.presentations().batchUpdate(presentationId='1PdLWKRpxbPERGcQ6HyXnbSpR_uPE5hV8nP4jUkIQ6xk', body=body).execute()\n",
    "\n",
    "create_slide_response = response1.get('replies')[0].get('createSlide')\n",
    "objID = create_slide_response.get('objectId')\n",
    "print(f'Created slide with ID: {objID}')"
   ]
  },
  {
   "source": [
    "### Adding In Text and Shapes\n",
    "\n",
    "Now that we have the general examples out of the way, we will get into what this project is all about, adding in the text and shapes for the watermark.  I will use the slide that we just created as an example first.\n",
    "\n",
    "\n",
    "\n"
   ],
   "cell_type": "markdown",
   "metadata": {}
  },
  {
   "cell_type": "code",
   "execution_count": null,
   "metadata": {},
   "outputs": [],
   "source": [
    "element_id = 'Watermark_Example_01'\n",
    "pt350X = {\n",
    "    'magnitude' : 100,\n",
    "    'unit' : 'PT'\n",
    "}\n",
    "\n",
    "pt350Y = {\n",
    "    'magnitude' : 100,\n",
    "    'unit' : 'PT'\n",
    "}\n",
    "\n",
    "\n",
    "requests2 = [\n",
    "    {\n",
    "        'createShape': {\n",
    "            'objectId': element_id,\n",
    "            'shapeType': 'TEXT_BOX',\n",
    "            'elementProperties': {\n",
    "                'pageObjectId': page_id,\n",
    "                'size': {\n",
    "                    'height': pt350X,\n",
    "                    'width': pt350Y\n",
    "                },\n",
    "                'transform': {\n",
    "                    'scaleX': 3,\n",
    "                    'scaleY': 0.25,\n",
    "                    'translateX': 245,\n",
    "                    'translateY': 365,\n",
    "                    'unit': 'PT'\n",
    "                }\n",
    "            }\n",
    "        }\n",
    "    },\n",
    "\n",
    "    {\n",
    "        'insertText': {\n",
    "            'objectId' : element_id,\n",
    "            'insertionIndex' : 0,\n",
    "            'text': 'The following information is classified'\n",
    "        }\n",
    "    }\n",
    "]\n",
    "\n",
    "\n",
    "body = {\n",
    "    'requests': requests2\n",
    "}\n",
    "\n",
    "response2 = service.presentations().batchUpdate(presentationId='1PdLWKRpxbPERGcQ6HyXnbSpR_uPE5hV8nP4jUkIQ6xk', body=body).execute()\n",
    "create_shape_response = response2.get('replies')[0].get('createShape')\n",
    "objID2 = create_shape_response.get('objectId')\n",
    "print(f'Created textbox with ID: {objID2}')"
   ]
  },
  {
   "source": [
    "### Adding in Images\n",
    "\n",
    "Now, text boxes may work for some situations, there may be the need to have an image that is added instead.  This will follow a similar process and transforms can also be added to change things like the scale and positioning of the image that is being added."
   ],
   "cell_type": "markdown",
   "metadata": {}
  },
  {
   "source": [
    "## Performing The Export\n"
   ],
   "cell_type": "markdown",
   "metadata": {}
  },
  {
   "cell_type": "code",
   "execution_count": null,
   "metadata": {},
   "outputs": [],
   "source": [
    "def file_search():\n",
    "    with open('token.pickle', 'rb') as token:\n",
    "            creds = pickle.load(token)\n",
    "\n",
    "    drive_service = build('drive', 'v3', credentials=creds)\n",
    "    \n",
    "    results = []\n",
    "    page_token = None\n",
    "    while True:\n",
    "        # response = drive_service.files().list(q=\"modifiedTime > '2020-11-04T12:00:00'\").execute()\n",
    "        response = drive_service.files().list(q=\"name='Copy of Splunk Product Line - IT Roadmap - FY21Q3'\",fields='nextPageToken, files(id, name,mimeType)', pageToken=page_token).execute()\n",
    "        for file in response.get('files', []):\n",
    "            #print(f'Found:  {file.get(\"name\")}, ID: {file.get(\"id\")}')\n",
    "    \n",
    "            file_name = file.get(\"name\")\n",
    "            file_id = file.get(\"id\")\n",
    "            file_mimeType = file.get(\"mimeType\")\n",
    "            res = {\n",
    "                \"name\": file_name,\n",
    "                \"id\" : file_id,\n",
    "                \"mimeType\" : file_mimeType\n",
    "            }\n",
    "            results.append(res)\n",
    "        page_token = response.get('nextPageToken', None)\n",
    "        if page_token is None:\n",
    "                break\n",
    "    return results\n",
    "    \n",
    "\n",
    "        \n",
    "        \n"
   ]
  },
  {
   "cell_type": "code",
   "execution_count": null,
   "metadata": {
    "tags": []
   },
   "outputs": [],
   "source": [
    "files = file_search()"
   ]
  },
  {
   "cell_type": "code",
   "execution_count": null,
   "metadata": {},
   "outputs": [],
   "source": [
    "print(files)"
   ]
  },
  {
   "cell_type": "code",
   "execution_count": null,
   "metadata": {},
   "outputs": [],
   "source": [
    "#@title Exporting the file to PDF and uploading to GDrive\n",
    "def exportPDF(file_id,filename):\n",
    "\n",
    "    with open('token.pickle', 'rb') as token:\n",
    "        creds = pickle.load(token)\n",
    "    drive_service = build('drive', 'v3', credentials=creds)\n",
    "    request3 = drive_service.files().export_media(fileId=file_id,mimeType='application/pdf')\n",
    "    filename += '.pdf'\n",
    "    \n",
    "    fh = io.FileIO(filename, 'wb')\n",
    "    from googleapiclient.http import MediaIoBaseDownload, MediaDownloadProgress, MediaFileUpload\n",
    "    downloader = MediaIoBaseDownload(fh, request3, 1024 * 1024 * 1024)\n",
    "    done = False\n",
    "    while done is False:\n",
    "        try:\n",
    "            status, done = downloader.next_chunk()\n",
    "            print(\"Starting Download\")\n",
    "            sys.stdout.flush()\n",
    "        except Exception as e:\n",
    "            print(e.message)\n",
    "            print(\"Download failed\")\n",
    "            fh.close()\n",
    "            sys.exit(1)\n",
    "    print(\"Complete\")\n",
    "    \n",
    "    metadata = {'name': filename,'mimeType': 'application/pdf'}\n",
    "    media = MediaFileUpload(filename,mimetype='application/pdf', chunksize = 1024 * 1024)\n",
    "    request4 = drive_service.files().create(body=metadata, media_body=media).execute()\n",
    "    print(request4)\n",
    "\n"
   ]
  },
  {
   "cell_type": "code",
   "execution_count": null,
   "metadata": {},
   "outputs": [],
   "source": [
    "\n",
    "\n",
    "    exportPDF(file_id,filename)\n"
   ]
  },
  {
   "cell_type": "code",
   "execution_count": null,
   "metadata": {},
   "outputs": [],
   "source": [
    "def export2():\n",
    "\n",
    "    from PyDrive.auth import GoogleAuth\n",
    "    from PyDrive.drive import GoogleDrive\n",
    "\n",
    "    gauth = GoogleAuth()\n",
    "    gauth.LocalWebServerAuth()\n",
    "\n",
    "    drive = GoogleDrive(gauth)\n",
    "\n",
    "    file_list = drive.ListFile({'q':\"name='Example Presentation'\"}).GetList()\n",
    "    for f in file_list:\n",
    "        print(f'title {f[\"title\"]}, ID: {f[\"id\"]}')"
   ]
  },
  {
   "cell_type": "code",
   "execution_count": null,
   "metadata": {},
   "outputs": [],
   "source": []
  }
 ]
}